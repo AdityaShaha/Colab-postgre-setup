{
 "cells": [
  {
   "cell_type": "markdown",
   "metadata": {},
   "source": [
    "# Setup Postgresql on Colab"
   ]
  },
  {
   "cell_type": "code",
   "execution_count": null,
   "metadata": {},
   "outputs": [],
   "source": [
    "# install\n",
    "!apt install postgresql postgresql-contrib &>log\n",
    "!service postgresql start\n",
    "!sudo -u postgres psql -c \"CREATE USER root WITH SUPERUSER\"\n",
    "# set connection\n",
    "\n",
    "%load_ext sql\n",
    "%config SqlMagic.feedback=False \n",
    "%config SqlMagic.autopandas=True\n",
    "%sql postgresql+psycopg2://@/postgres\n",
    "\n",
    "import pandas as pd\n",
    "df = pd.read_csv('https://raw.githubusercontent.com/joaolcorreia/RFM-analysis/master/sample-orders.csv',encoding='cp1252')\n",
    "from sqlalchemy import create_engine\n",
    "engine = create_engine('postgresql+psycopg2://@/postgres')\n",
    "df.to_sql('customer_data', engine,if_exists='replace',\n",
    "                  index=False,\n",
    "                  method='multi')"
   ]
  },
  {
   "cell_type": "code",
   "execution_count": null,
   "metadata": {},
   "outputs": [],
   "source": [
    "df = %sql select * from public.customer_data;"
   ]
  },
  {
   "cell_type": "code",
   "execution_count": null,
   "metadata": {},
   "outputs": [],
   "source": [
    "query = \"\"\"\n",
    "\n",
    "\"\"\""
   ]
  },
  {
   "cell_type": "code",
   "execution_count": null,
   "metadata": {},
   "outputs": [],
   "source": [
    "results = pd.read_sql_query(query,engine)"
   ]
  },
  {
   "cell_type": "code",
   "execution_count": null,
   "metadata": {},
   "outputs": [],
   "source": []
  }
 ],
 "metadata": {
  "kernelspec": {
   "display_name": "Python 3",
   "language": "python",
   "name": "python3"
  },
  "language_info": {
   "codemirror_mode": {
    "name": "ipython",
    "version": 3
   },
   "file_extension": ".py",
   "mimetype": "text/x-python",
   "name": "python",
   "nbconvert_exporter": "python",
   "pygments_lexer": "ipython3",
   "version": "3.7.6"
  }
 },
 "nbformat": 4,
 "nbformat_minor": 4
}
